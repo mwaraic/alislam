{
  "cells": [
    {
      "cell_type": "markdown",
      "metadata": {
        "id": "YdsMOBaBfyT0"
      },
      "source": [
        "##### Copyright 2025 Google LLC."
      ]
    },
    {
      "cell_type": "code",
      "execution_count": 1,
      "metadata": {
        "cellView": "form",
        "id": "rIIf_RgOf3sr"
      },
      "outputs": [],
      "source": [
        "# @title Licensed under the Apache License, Version 2.0 (the \"License\");\n",
        "# you may not use this file except in compliance with the License.\n",
        "# You may obtain a copy of the License at\n",
        "#\n",
        "# https://www.apache.org/licenses/LICENSE-2.0\n",
        "#\n",
        "# Unless required by applicable law or agreed to in writing, software\n",
        "# distributed under the License is distributed on an \"AS IS\" BASIS,\n",
        "# WITHOUT WARRANTIES OR CONDITIONS OF ANY KIND, either express or implied.\n",
        "# See the License for the specific language governing permissions and\n",
        "# limitations under the License."
      ]
    },
    {
      "cell_type": "markdown",
      "metadata": {
        "id": "TySweisNf_Am"
      },
      "source": [
        "# Gemini API: Question Answering using LangChain and Pinecone"
      ]
    },
    {
      "cell_type": "markdown",
      "metadata": {
        "id": "awKO767lQIWh"
      },
      "source": [
        "<a target=\"_blank\" href=\"https://colab.research.google.com/github/google-gemini/cookbook/blob/main/examples/langchain/Gemini_LangChain_QA_Pinecone_WebLoad.ipynb\"><img src=\"https://colab.research.google.com/assets/colab-badge.svg\" height=30/></a>"
      ]
    },
    {
      "cell_type": "markdown",
      "metadata": {
        "id": "bA5Hys5PU_nt"
      },
      "source": [
        "## Overview\n",
        "\n",
        "[Gemini](https://ai.google.dev/models/gemini) is a family of generative AI models that lets developers generate content and solve problems. These models are designed and trained to handle both text and images as input.\n",
        "\n",
        "[LangChain](https://www.langchain.com/) is a data framework designed to make integration of Large Language Models (LLM) like Gemini easier for applications.\n",
        "\n",
        "[Pinecone](https://www.pinecone.io/) is a cloud-first vector database that allows users to search across billions of embeddings with ultra-low query latency.\n",
        "\n",
        "In this notebook, you'll learn how to create an application that answers questions using data from a website with the help of Gemini, LangChain, and Pinecone."
      ]
    },
    {
      "cell_type": "markdown",
      "metadata": {
        "id": "_qRjVe1tZhsx"
      },
      "source": [
        "## Setup\n",
        "\n",
        "First, you must install the packages and set the necessary environment variables.\n",
        "\n",
        "### Installation\n",
        "\n",
        "Install LangChain's Python library, `langchain` and LangChain's integration package for Gemini, `langchain-google-genai`. Next, install LangChain's integration package for the new version of Pinecone, `langchain-pinecone` and the `pinecone-client`, which is Pinecone's Python SDK. Finally, install `langchain-community` to access the `WebBaseLoader` module later."
      ]
    },
    {
      "cell_type": "code",
      "execution_count": null,
      "metadata": {
        "id": "olK4Ejjzuj76"
      },
      "outputs": [],
      "source": [
        "%pip install --quiet langchain-core\n",
        "%pip install --quiet langchain\n",
        "%pip install --quiet langchain-google-genai\n",
        "%pip install --quiet -U langchain-community\n",
        "%pip install --quiet pinecone"
      ]
    },
    {
      "cell_type": "markdown",
      "metadata": {
        "id": "FQOGMejVu-6D"
      },
      "source": [
        "## Configure your API key\n",
        "\n",
        "To run the following cell, your API key must be stored in a Colab Secret named `GOOGLE_API_KEY`. If you don't already have an API key, or you're not sure how to create a Colab Secret, see [Authentication](https://github.com/google-gemini/cookbook/blob/main/quickstarts/Authentication.ipynb) for an example.\n"
      ]
    },
    {
      "cell_type": "code",
      "execution_count": 1,
      "metadata": {
        "id": "ysayz8skEfBW"
      },
      "outputs": [],
      "source": [
        "import os\n",
        "GOOGLE_API_KEY=os.environ.get('GOOGLE_API_KEY')\n",
        "COHERE_API_KEY=os.environ.get('COHERE_API_KEY')\n",
        "\n",
        "os.environ[\"GOOGLE_API_KEY\"] = GOOGLE_API_KEY\n",
        "os.environ[\"COHERE_API_KEY\"] = COHERE_API_KEY"
      ]
    },
    {
      "cell_type": "markdown",
      "metadata": {
        "id": "MPQLjFvRooqn"
      },
      "source": [
        "### Setup Pinecone\n",
        "\n",
        "To use Pinecone in your application, you must have an API key. To create an API key you have to set up a Pinecone account. Visit [Pinecone's app page](https://app.pinecone.io/), and Sign up/Log in to your account. Then navigate to the \"API Keys\" section and copy your API key.\n",
        "\n",
        "For more detailed instructions on getting the API key, you can read Pinecone's [Quickstart documentation](https://docs.pinecone.io/docs/quickstart#2-get-your-api-key).\n",
        "\n",
        "Set the environment variable `PINECONE_API_KEY` to configure Pinecone to use your API key.\n"
      ]
    },
    {
      "cell_type": "code",
      "execution_count": 2,
      "metadata": {
        "id": "A7jTZLEApgtm"
      },
      "outputs": [],
      "source": [
        "PINECONE_API_KEY=os.environ.get('PINECONE_API_KEY')"
      ]
    },
    {
      "cell_type": "markdown",
      "metadata": {
        "id": "YGOKV3XflBCe"
      },
      "source": [
        "## Basic steps\n",
        "LLMs are trained offline on a large corpus of public data. Hence they cannot answer questions based on custom or private data accurately without additional context.\n",
        "\n",
        "If you want to make use of LLMs to answer questions based on private data, you have to provide the relevant documents as context alongside your prompt. This approach is called Retrieval Augmented Generation (RAG).\n",
        "\n",
        "You will use this approach to create a question-answering assistant using the Gemini text model integrated through LangChain. The assistant is expected to answer questions about Gemini model. To make this possible you will add more context to the assistant using data from a website.\n",
        "\n",
        "In this tutorial, you'll implement the two main components in an RAG-based architecture:\n",
        "\n",
        "1. Retriever\n",
        "\n",
        "    Based on the user's query, the retriever retrieves relevant snippets that add context from the document. In this tutorial, the document is the website data.\n",
        "    The relevant snippets are passed as context to the next stage - \"Generator\".\n",
        "\n",
        "2. Generator\n",
        "\n",
        "    The relevant snippets from the website data are passed to the LLM along with the user's query to generate accurate answers.\n",
        "\n",
        "You'll learn more about these stages in the upcoming sections while implementing the application."
      ]
    },
    {
      "cell_type": "markdown",
      "metadata": {
        "id": "kPhs4mDkjdgY"
      },
      "source": [
        "## Import the required libraries"
      ]
    },
    {
      "cell_type": "code",
      "execution_count": null,
      "metadata": {
        "id": "TcvGPVdXu05F"
      },
      "outputs": [],
      "source": [
        "from langchain import hub\n",
        "from langchain import PromptTemplate\n",
        "from langchain.docstore.document import Document\n",
        "from langchain.document_loaders import WebBaseLoader\n",
        "from langchain.schema import StrOutputParser\n",
        "from langchain.schema.prompt_template import format_document\n",
        "from langchain.schema.runnable import RunnablePassthrough\n",
        "from langchain.text_splitter import RecursiveCharacterTextSplitter\n",
        "from langchain_pinecone import PineconeVectorStore\n",
        "\n",
        "from pinecone import PodSpec"
      ]
    },
    {
      "cell_type": "markdown",
      "metadata": {
        "id": "qZ3tM0T2lbVm"
      },
      "source": [
        "## Retriever\n",
        "\n",
        "In this stage, you will perform the following steps:\n",
        "\n",
        "1. Read and parse the website data using LangChain.\n",
        "\n",
        "2. Create embeddings of the website data.\n",
        "\n",
        "    Embeddings are numerical representations (vectors) of text. Hence, text with similar meaning will have similar embedding vectors. You'll make use of Gemini's embedding model to create the embedding vectors of the website data.\n",
        "\n",
        "3. Store the embeddings in Pinecone's vector store.\n",
        "    \n",
        "    Pinecone is a vector database. The Pinecone vector store helps in the efficient retrieval of similar vectors. Thus, for adding context to the prompt for the LLM, relevant embeddings of the text matching the user's question can be retrieved easily using Pinecone.\n",
        "\n",
        "4. Create a Retriever from the Pinecone vector store.\n",
        "\n",
        "    The retriever will be used to pass relevant website embeddings to the LLM along with user queries."
      ]
    },
    {
      "cell_type": "markdown",
      "metadata": {
        "id": "W2N-NCPElqN3"
      },
      "source": [
        "### Read and parse the website data\n",
        "\n",
        "LangChain provides a wide variety of document loaders. To read the website data as a document, you will use the `WebBaseLoader` from LangChain.\n",
        "\n",
        "To know more about how to read and parse input data from different sources using the document loaders of LangChain, read LangChain's [document loaders guide](https://python.langchain.com/docs/integrations/document_loaders)."
      ]
    },
    {
      "cell_type": "code",
      "execution_count": 96,
      "metadata": {
        "id": "8NXNTrjp0jdh"
      },
      "outputs": [],
      "source": [
        "from langchain_google_genai import GoogleGenerativeAIEmbeddings\n",
        "\n",
        "gemini_embeddings = GoogleGenerativeAIEmbeddings(model=\"models/gemini-embedding-exp-03-07\")\n"
      ]
    },
    {
      "cell_type": "markdown",
      "metadata": {
        "id": "Zr5xeWUXmnUe"
      },
      "source": [
        "### Store the data using Pinecone\n",
        "\n",
        "\n",
        "To create a Pinecone vector database, first, you have to initialize your Pinecone client connection using the API key you set previously.\n",
        "\n",
        "In Pinecone, vector embeddings have to be stored in indexes. An index represents the vector data's top-level organizational unit. The vectors in any index must have the same dimensionality and distance metric for calculating similarity. You can read more about indexes in [Pinecone's Indexes documentation](https://docs.pinecone.io/docs/indexes).\n",
        "\n",
        "First, you'll create an index using Pinecone's `create_index` function. Pinecone allows you to create two types of indexes, Serverless indexes and Pod-based indexes. Pinecone's free starter plan lets you create only one project and one pod-based starter index with sufficient resources to support 100,000 vectors. For this tutorial, you have to create a pod-based starter index. To know more about different indexes and how they can be created, read Pinecone's [create indexes guide](https://docs.pinecone.io/docs/new-api#creating-indexes).\n",
        "\n",
        "\n",
        "Next, you'll insert the documents you extracted earlier from the website data into the newly created index using LangChain's `Pinecone.from_documents`. Under the hood, this function creates embeddings from the documents created by the document loader of LangChain using any specified embedding model and inserts them into the specified index in a Pinecone vector database.  \n",
        "\n",
        "You have to specify the `docs` you created from the website data using LangChain's `WebBasedLoader` and the `gemini_embeddings` as the embedding model when invoking the `from_documents` function to create the vector database from the website data."
      ]
    },
    {
      "cell_type": "code",
      "execution_count": 97,
      "metadata": {
        "id": "n1VwhUQMvpcN"
      },
      "outputs": [],
      "source": [
        "from pinecone import Pinecone as pc\n",
        "\n",
        "PINECONE_HOST=\"https://example.pinecone.io\"\n",
        "PINECONE_INDEX=\"example\"\n",
        "\n",
        "# Initialize Pinecone client\n",
        "pine_client = pc(api_key=PINECONE_API_KEY)\n",
        "index_name = PINECONE_INDEX\n",
        "index = pine_client.Index(index_name, PINECONE_HOST)\n",
        "vectorstore = PineconeVectorStore(\n",
        "    index=index,\n",
        "    embedding=gemini_embeddings\n",
        ")\n"
      ]
    },
    {
      "cell_type": "markdown",
      "metadata": {},
      "source": [
        "### Seerat-ul-Mahdi\n",
        "https://new.alislam.org/library/books/seerat-ul-mahdi-vol-1?option=options&page=9\n",
        "\n",
        "https://new.alislam.org/library/books/seerat-ul-mahdi-vol-2?option=options&page=8"
      ]
    },
    {
      "cell_type": "code",
      "execution_count": 116,
      "metadata": {},
      "outputs": [],
      "source": [
        "def update_seerat_entry(entry, jild_number):\n",
        "    \"\"\"\n",
        "    Updates the 'content' of a single entry to include:\n",
        "    سیرت المہدی، جلد {جلد نمبر}، صفحہ {صفحہ نمبر}\n",
        "    \n",
        "    Parameters:\n",
        "    - entry: dict with 'content' and 'pageNum'\n",
        "    - jild_number: int, the جلد (volume) number to insert\n",
        "    \n",
        "    Returns:\n",
        "    - Updated entry (dict) with modified 'content'\n",
        "    \"\"\"\n",
        "    page_number = entry.get('printPageNum', '')\n",
        "    content = entry.get('content', '')\n",
        "\n",
        "    # Split the content at the first two newlines\n",
        "    split_content = content.split('\\n', 2)\n",
        "\n",
        "    if len(split_content) >= 3:\n",
        "        # Replace the first two lines with formatted title\n",
        "        new_header = f'سیرت المہدی، جلد {jild_number}، صفحہ {page_number}'\n",
        "        entry['content'] = f'{new_header}\\n{split_content[2]}'\n",
        "\n",
        "    return entry\n"
      ]
    },
    {
      "cell_type": "code",
      "execution_count": null,
      "metadata": {},
      "outputs": [],
      "source": [
        "from time import sleep\n",
        "import requests\n",
        "\n",
        "books = {\n",
        "    \"1342-12460\": {\n",
        "        \"jild_number\": 1,\n",
        "        \"start_page\": 9,\n",
        "        \"end_page\": 834\n",
        "    },\n",
        "    \"1342-12463\": {\n",
        "        \"jild_number\": 2,\n",
        "        \"start_page\": 8,\n",
        "        \"end_page\": 439\n",
        "    }\n",
        "}\n",
        "for book_id, book_data in books.items():\n",
        "    jild_number = book_data[\"jild_number\"]\n",
        "    for i in range(book_data[\"start_page\"], book_data[\"end_page\"]):\n",
        "        url = f\"https://new.alislam.org/api/books/text?id={book_id}&pages={i}\"\n",
        "        response = requests.get(url)\n",
        "        entry =update_seerat_entry(response.json()[0], jild_number)\n",
        "        text = entry['content']\n",
        "        page_number = entry.get('printPageNum', '')\n",
        "        sleep(1)\n",
        "        vectorstore.add_documents([Document(page_content=text, metadata={\"chunk_index\": i, \"volume\": jild_number, \"title\": \"seerat-ul-mahdi\", \"page\": page_number})])\n"
      ]
    },
    {
      "cell_type": "markdown",
      "metadata": {},
      "source": [
        "### Fiqh ul Masih\n",
        "\n",
        "https://new.alislam.org/api/books/text?id=ur-1197&pages=1"
      ]
    },
    {
      "cell_type": "code",
      "execution_count": 303,
      "metadata": {},
      "outputs": [],
      "source": [
        "def update_fiqh_ul_masih_entry(entry):\n",
        "    \"\"\"\n",
        "    Updates the 'content' of a single entry to include:\n",
        "    فقه المسيح، صفحہ {صفحہ نمبر}\n",
        "    \n",
        "    Parameters:\n",
        "    - entry: dict with 'content' and 'pageNum'\n",
        "    \n",
        "    Returns:\n",
        "    - Updated entry (dict) with modified 'content'\n",
        "    \"\"\"\n",
        "    page_number = entry.get('printPageNum', '')\n",
        "    content = entry.get('content', '')\n",
        "\n",
        "    # Split the content at the first two newlines to grab the title and narration number\n",
        "    split_content = content.split('\\n', 2)\n",
        "\n",
        "    if len(split_content) >= 3:\n",
        "        # Extract title (first line)\n",
        "        title = split_content[0]\n",
        "        \n",
        "        # Create the new header with page number\n",
        "        new_header = f'{title}، صفحہ {page_number}'\n",
        "        \n",
        "        # Update the content with the new header and the rest of the text\n",
        "        entry['content'] = f'{new_header}\\n{split_content[2]}'\n",
        "\n",
        "    return entry"
      ]
    },
    {
      "cell_type": "code",
      "execution_count": null,
      "metadata": {},
      "outputs": [],
      "source": [
        "from time import sleep\n",
        "import requests\n",
        "\n",
        "books = {\n",
        "    \"ur-1197\": {\n",
        "        \"start_page\": 58,\n",
        "        \"end_page\": 612\n",
        "    }\n",
        "}\n",
        "\n",
        "documents = []\n",
        "for book_id, book_data in books.items():\n",
        "    for i in range(book_data[\"start_page\"], book_data[\"end_page\"]):\n",
        "        url = f\"https://new.alislam.org/api/books/text?id={book_id}&pages={i}\"\n",
        "        response = requests.get(url)\n",
        "        entry =update_fiqh_ul_masih_entry(response.json()[0])\n",
        "        text = entry['content']\n",
        "        page_number = entry.get('printPageNum', '')\n",
        "        documents.extend([Document(page_content=text, metadata={\"chunk_index\": i, \"title\": \"fiqh-ul-masih\", \"page\": page_number})])\n"
      ]
    },
    {
      "cell_type": "code",
      "execution_count": 372,
      "metadata": {},
      "outputs": [],
      "source": [
        "import time\n",
        "from random import uniform\n",
        "\n",
        "def add_with_backoff(documents_batch, max_retries=5):\n",
        "    retry = 0\n",
        "    while retry <= max_retries:\n",
        "        try:\n",
        "            vectorstore.add_documents(documents_batch)\n",
        "            return  # Success: exit function\n",
        "        except Exception as e:\n",
        "            if '429' in str(e):  # or check e.status_code == 429 if it's a ResponseError\n",
        "                wait = 2 ** retry + uniform(0, 1)  # jitter to avoid thundering herd\n",
        "                print(f\"429 Too Many Requests. Retrying in {wait:.2f} seconds...\")\n",
        "                time.sleep(wait)\n",
        "                retry += 1\n",
        "            else:\n",
        "                raise  # re-raise other exceptions\n",
        "\n",
        "# Batch processing loop with delay and backoff\n",
        "for i in range(0, len(documents), 150):\n",
        "    batch = documents[i:i+150]\n",
        "    add_with_backoff(batch)"
      ]
    },
    {
      "cell_type": "markdown",
      "metadata": {},
      "source": [
        "### Ruhani Khazain"
      ]
    },
    {
      "cell_type": "code",
      "execution_count": 19,
      "metadata": {},
      "outputs": [],
      "source": [
        "def update_rk_entry(entry, title, volume):\n",
        "    \"\"\"\n",
        "    Updates the 'content' of a single entry to include:\n",
        "    فقه المسيح، صفحہ {صفحہ نمبر}\n",
        "    \n",
        "    Parameters:\n",
        "    - entry: dict with 'content' and 'pageNum'\n",
        "    \n",
        "    Returns:\n",
        "    - Updated entry (dict) with modified 'content'\n",
        "    \"\"\"\n",
        "    page_number = entry.get('printPageNum', '')\n",
        "    content = entry.get('content', '')\n",
        "   \n",
        "    # Create the new header with page number\n",
        "    new_header = f'روحانی خزائن جلد {volume}، {title}، صفحہ {page_number}'\n",
        "        \n",
        "    # Update the content with the new header and the rest of the text\n",
        "    entry['content'] = f'{new_header}\\n{content}'\n",
        "\n",
        "    return entry"
      ]
    },
    {
      "cell_type": "markdown",
      "metadata": {},
      "source": [
        "### 3, 7, 18, 5, 22"
      ]
    },
    {
      "cell_type": "code",
      "execution_count": 106,
      "metadata": {},
      "outputs": [],
      "source": [
        "import requests\n",
        "\n",
        "documents = []\n",
        "\n",
        "# ['rk-vol-1-bk-1', 'rk-vol-2-bk-5', 'rk-vol-3-bk-12', 'rk-vol-4-bk-13', 'rk-vol-5-bk-18']\n",
        "# ['rk-vol-6-bk-19', 'rk-vol-7-bk-24', 'rk-vol-8-bk-27', 'rk-vol-9-bk-31', 'rk-vol-10-bk-37']\n",
        "# ['rk-vol-11-bk-40', 'rk-vol-12-bk-41', 'rkrk-vol-13-bk-48', 'rk-vol-14-bk-51', 'rk-vol-15-bk-56']\n",
        "# ['rk-vol-16-bk-61', 'rk-vol-17-bk-63', 'rk-vol-18-bk-67', 'rk-vol-19-bk-74', 'rk-vol-20-bk-81']\n",
        "# ['rk-vol-21-bk-91', 'rk-vol-22-bk-92', 'rk-vol-23-bk-93']\n",
        "\n",
        "for id in ['rk-vol-4-bk-13']:\n",
        "    books_metadata = requests.get(f\"https://new.alislam.org/api/books/titleLocationInfo?id={id}\").json()\n",
        "\n",
        "    for book_data in books_metadata:\n",
        "        for i in range(book_data[\"startPage\"] + 1, book_data[\"endPage\"] + 1):\n",
        "            url = f\"https://new.alislam.org/api/books/text?id={book_data[\"id\"]}&pages={i}\"\n",
        "            response = requests.get(url)\n",
        "            entry =update_rk_entry(response.json()[0], book_data[\"title\"]['ur'], book_data['id'].split('-')[2])\n",
        "            text = entry['content']\n",
        "            page_number = entry.get('printPageNum', '')\n",
        "            documents.extend([Document(page_content=text, metadata={\"chunk_index\": i, \"volume\": book_data['id'].split('-')[2], \"title\": book_data[\"title\"]['ur'], \"page\": page_number})])"
      ]
    },
    {
      "cell_type": "code",
      "execution_count": null,
      "metadata": {},
      "outputs": [],
      "source": [
        "import time\n",
        "from random import uniform\n",
        "from time import sleep\n",
        "\n",
        "def add_with_backoff(documents_batch, max_retries=10):\n",
        "    retry = 0\n",
        "    while retry <= max_retries:\n",
        "        try:\n",
        "            vectorstore.add_documents(documents_batch)\n",
        "            return  # Success: exit function\n",
        "        except Exception as e:\n",
        "            if '429' in str(e):  # or check e.status_code == 429 if it's a ResponseError\n",
        "                wait = 2 ** retry + uniform(0, 1)  # jitter to avoid thundering herd\n",
        "                print(f\"429 Too Many Requests. Retrying in {wait:.2f} seconds...\")\n",
        "                time.sleep(wait)\n",
        "                retry += 1\n",
        "            else:\n",
        "                raise  # re-raise other exceptions\n",
        "\n",
        "# Batch processing loop with delay and backoff\n",
        "for i in range(0, len(documents), 50):\n",
        "    batch = documents[i:i+50]\n",
        "    sleep(30)\n",
        "    add_with_backoff(batch)"
      ]
    },
    {
      "cell_type": "markdown",
      "metadata": {
        "id": "BuSjapvHnc6T"
      },
      "source": [
        "### Create a retriever using Pinecone\n",
        "\n",
        "You'll now create a retriever that can retrieve website data embeddings from the newly created Pinecone vector store. This retriever can be later used to pass embeddings that provide more context to the LLM for answering user's queries.\n",
        "\n",
        "Invoke the `as_retriever` function of the vector store you initialized in the last step, to create a retriever."
      ]
    },
    {
      "cell_type": "code",
      "execution_count": 160,
      "metadata": {},
      "outputs": [],
      "source": [
        "from langchain_cohere import CohereRerank\n",
        "\n",
        "reranker = CohereRerank(\n",
        "    cohere_api_key=COHERE_API_KEY,\n",
        "    model=\"rerank-multilingual-v3.0\"  # latest model\n",
        ")"
      ]
    },
    {
      "cell_type": "code",
      "execution_count": null,
      "metadata": {},
      "outputs": [],
      "source": [
        "from langchain.retrievers.contextual_compression import ContextualCompressionRetriever\n",
        "\n",
        "base_retriever = vectorstore.as_retriever(search_type=\"similarity\" ,search_kwargs={\"k\": 100})\n",
        "\n",
        "retriever = ContextualCompressionRetriever(\n",
        "    base_compressor=reranker,\n",
        "    base_retriever=base_retriever\n",
        ")"
      ]
    },
    {
      "cell_type": "markdown",
      "metadata": {
        "id": "7Qw00lvPnjfR"
      },
      "source": [
        "## Generator\n",
        "\n",
        "The Generator prompts the LLM for an answer when the user asks a question. The retriever you created in the previous stage from the Pinecone vector store will be used to pass relevant embeddings from the website data to the LLM to provide more context to the user's query.\n",
        "\n",
        "You'll perform the following steps in this stage:\n",
        "\n",
        "1. Chain together the following:\n",
        "    * A prompt for extracting the relevant embeddings using the retriever.\n",
        "    * A prompt for answering any question using LangChain.\n",
        "    * An LLM model from Gemini for prompting.\n",
        "    \n",
        "2. Run the created chain with a question as input to prompt the model for an answer.\n"
      ]
    },
    {
      "cell_type": "markdown",
      "metadata": {
        "id": "c2MK2wLwnkLg"
      },
      "source": [
        "### Initialize Gemini\n",
        "\n",
        "You must import `ChatGoogleGenerativeAI` from LangChain to initialize your model.\n",
        " In this example, you will use **gemini-2.0-flash**, as it supports text summarization. To know more about the text model, read Google AI's [language documentation](https://ai.google.dev/models/gemini).\n",
        "\n",
        "You can configure the model parameters such as ***temperature*** or ***top_p***,  by passing the appropriate values when initializing the `ChatGoogleGenerativeAI` LLM.  To learn more about the parameters and their uses, read Google AI's [concepts guide](https://ai.google.dev/docs/concepts#model_parameters)."
      ]
    },
    {
      "cell_type": "code",
      "execution_count": 153,
      "metadata": {
        "id": "CaA1vRCh7s36"
      },
      "outputs": [],
      "source": [
        "from langchain_google_genai import ChatGoogleGenerativeAI\n",
        "\n",
        "# To configure model parameters use the `generation_config` parameter.\n",
        "# eg. generation_config = {\"temperature\": 0.7, \"topP\": 0.8, \"topK\": 40}\n",
        "# If you only want to set a custom temperature for the model use the\n",
        "# \"temperature\" parameter directly.\n",
        "\n",
        "llm = ChatGoogleGenerativeAI(model=\"gemini-2.5-flash-preview-05-20\")"
      ]
    },
    {
      "cell_type": "markdown",
      "metadata": {
        "id": "2BeLN6RXnuS2"
      },
      "source": [
        "### Create prompt templates\n",
        "\n",
        "You'll use LangChain's [PromptTemplate](https://python.langchain.com/docs/how_to/#prompt-templates) to generate prompts to the LLM for answering questions.\n",
        "\n",
        "In the `llm_prompt`, the variable `question` will be replaced later by the input question, and the variable `context` will be replaced by the relevant text from the website retrieved from the Pinecone vector store."
      ]
    },
    {
      "cell_type": "code",
      "execution_count": null,
      "metadata": {},
      "outputs": [],
      "source": [
        "# Prompt template to query Gemini\n",
        "llm_prompt_template = \"\"\"You are an Ahmadi scholar who answer general questions.\n",
        "\n",
        "Guidelines:\n",
        "- Use the following books of Ruhani Khazain to answer questions.\n",
        "- Add references to the sources of the answer for example: Ruhani Khazain Vol. X Book X Pg. X\n",
        "- If the answer is not found in the books, say \"I didn't find the answer in the Ruhani Khazain collection\"\n",
        "\n",
        "\n",
        "Question: {question}\n",
        "Books: {book}\n",
        "Answer:\"\"\"\n",
        "\n",
        "llm_prompt = PromptTemplate.from_template(llm_prompt_template)\n",
        "\n",
        "print(llm_prompt)"
      ]
    },
    {
      "cell_type": "markdown",
      "metadata": {
        "id": "TkWpzMmpnx7b"
      },
      "source": [
        "### Create a stuff documents chain\n",
        "\n",
        "LangChain provides [Chains](https://python.langchain.com/docs/modules/chains/) for chaining together LLMs with each other or other components for complex applications. You will create a **stuff documents chain** for this application. A stuff documents chain lets you combine all the relevant documents, insert them into the prompt, and pass that prompt to the LLM.\n",
        "\n",
        "You can create a stuff documents chain using the [LangChain Expression Language (LCEL)](https://python.langchain.com/docs/expression_language).\n",
        "\n",
        "To learn more about different types of document chains, read LangChain's [chains guide](https://python.langchain.com/docs/modules/chains/document/).\n",
        "\n",
        "The stuff documents chain for this application retrieves the relevant website data and passes it as the context to an LLM prompt along with the input question."
      ]
    },
    {
      "cell_type": "code",
      "execution_count": 163,
      "metadata": {
        "id": "gj5sWzpwp7vc"
      },
      "outputs": [],
      "source": [
        "# Combine data from documents to readable string format.\n",
        "def format_docs(docs):\n",
        "    print(docs)\n",
        "    return \"\\n\\n\".join(doc.page_content for doc in docs)\n",
        "\n",
        "# Create stuff documents chain using LCEL.\n",
        "# This is called a chain because you are chaining\n",
        "# together different elements with the LLM.\n",
        "# In the following example, to create a stuff chain,\n",
        "# you will combine content, prompt, LLM model, and\n",
        "# output parser together like a chain using LCEL.\n",
        "#\n",
        "# The chain implements the following pipeline:\n",
        "# 1. Extract data from documents and save to the variable `context`.\n",
        "# 2. Use the `RunnablePassthrough` option to provide question during invoke.\n",
        "# 3. The `context` and `question` are then passed to the prompt and\n",
        "#    input variables in the prompt are populated.\n",
        "# 4. The prompt is then passed to the LLM (`gemini-2.0-flash`).\n",
        "# 5. Output from the LLM is passed through an output parser\n",
        "#    to structure the model response.\n",
        "rag_chain = (\n",
        "    {\"book\": retriever | format_docs, \"question\": RunnablePassthrough()}\n",
        "    | llm_prompt\n",
        "    | llm\n",
        "    | StrOutputParser()\n",
        ")"
      ]
    },
    {
      "cell_type": "markdown",
      "metadata": {
        "id": "gmHx_F7DoMgM"
      },
      "source": [
        "### Prompt the model\n",
        "\n",
        "You can now query the LLM by passing any question to the `invoke()` function of the stuff documents chain you created previously."
      ]
    },
    {
      "cell_type": "code",
      "execution_count": null,
      "metadata": {},
      "outputs": [],
      "source": [
        "rag_chain.invoke(\"What is difference between rehmaniyat and rahimiyat?\")"
      ]
    }
  ],
  "metadata": {
    "colab": {
      "name": "Gemini_LangChain_QA_Pinecone_WebLoad.ipynb",
      "toc_visible": true
    },
    "kernelspec": {
      "display_name": ".venv",
      "language": "python",
      "name": "python3"
    },
    "language_info": {
      "codemirror_mode": {
        "name": "ipython",
        "version": 3
      },
      "file_extension": ".py",
      "mimetype": "text/x-python",
      "name": "python",
      "nbconvert_exporter": "python",
      "pygments_lexer": "ipython3",
      "version": "3.13.2"
    }
  },
  "nbformat": 4,
  "nbformat_minor": 0
}
