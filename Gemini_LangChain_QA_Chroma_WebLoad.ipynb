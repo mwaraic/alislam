{
  "cells": [
    {
      "cell_type": "markdown",
      "metadata": {
        "id": "Tce3stUlHN0L"
      },
      "source": [
        "##### Copyright 2025 Google LLC."
      ]
    },
    {
      "cell_type": "code",
      "execution_count": 1,
      "metadata": {
        "cellView": "form",
        "id": "tuOe1ymfHZPu"
      },
      "outputs": [],
      "source": [
        "# @title Licensed under the Apache License, Version 2.0 (the \"License\");\n",
        "# you may not use this file except in compliance with the License.\n",
        "# You may obtain a copy of the License at\n",
        "#\n",
        "# https://www.apache.org/licenses/LICENSE-2.0\n",
        "#\n",
        "# Unless required by applicable law or agreed to in writing, software\n",
        "# distributed under the License is distributed on an \"AS IS\" BASIS,\n",
        "# WITHOUT WARRANTIES OR CONDITIONS OF ANY KIND, either express or implied.\n",
        "# See the License for the specific language governing permissions and\n",
        "# limitations under the License."
      ]
    },
    {
      "cell_type": "markdown",
      "metadata": {
        "id": "0c5ea3f4a75c"
      },
      "source": [
        "# Gemini API: Question Answering using LangChain and Chroma"
      ]
    },
    {
      "cell_type": "markdown",
      "metadata": {
        "id": "awKO767lQIWh"
      },
      "source": [
        "<a target=\"_blank\" href=\"https://colab.research.google.com/github/google-gemini/cookbook/blob/main/examples/langchain/Gemini_LangChain_QA_Chroma_WebLoad.ipynb\"><img src=\"https://colab.research.google.com/assets/colab-badge.svg\" height=30/></a>"
      ]
    },
    {
      "cell_type": "markdown",
      "metadata": {
        "id": "479790a71f3c"
      },
      "source": [
        "## Overview\n",
        "\n",
        "[Gemini](https://ai.google.dev/models/gemini) is a family of generative AI models that lets developers generate content and solve problems. These models are designed and trained to handle both text and images as input.\n",
        "\n",
        "[LangChain](https://www.langchain.com/) is a data framework designed to make integration of Large Language Models (LLM) like Gemini easier for applications.\n",
        "\n",
        "[Chroma](https://docs.trychroma.com/) is an open-source embedding database focused on simplicity and developer productivity. Chroma allows users to store embeddings and their metadata, embed documents and queries, and search the embeddings quickly.\n",
        "\n",
        "In this notebook, you'll learn how to create an application that answers questions using data from a website with the help of Gemini, LangChain, and Chroma."
      ]
    },
    {
      "cell_type": "markdown",
      "metadata": {
        "id": "_qRjVe1tZhsx"
      },
      "source": [
        "## Setup\n",
        "\n",
        "First, you must install the packages and set the necessary environment variables.\n",
        "\n",
        "### Installation\n",
        "\n",
        "Install LangChain's Python library, `langchain` and LangChain's integration package for Gemini, `langchain-google-genai`. Next, install Chroma's Python client SDK, `chromadb`."
      ]
    },
    {
      "cell_type": "code",
      "execution_count": 2,
      "metadata": {
        "id": "olK4Ejjzuj76"
      },
      "outputs": [
        {
          "name": "stdout",
          "output_type": "stream",
          "text": [
            "Note: you may need to restart the kernel to use updated packages.\n",
            "Note: you may need to restart the kernel to use updated packages.\n",
            "\u001b[31mERROR: pip's dependency resolver does not currently take into account all the packages that are installed. This behaviour is the source of the following dependency conflicts.\n",
            "opentelemetry-proto 1.34.0 requires protobuf<6.0,>=5.0, but you have protobuf 4.25.8 which is incompatible.\u001b[0m\u001b[31m\n",
            "\u001b[0mNote: you may need to restart the kernel to use updated packages.\n",
            "Note: you may need to restart the kernel to use updated packages.\n",
            "\u001b[31mERROR: pip's dependency resolver does not currently take into account all the packages that are installed. This behaviour is the source of the following dependency conflicts.\n",
            "google-ai-generativelanguage 0.4.0 requires protobuf!=3.20.0,!=3.20.1,!=4.21.0,!=4.21.1,!=4.21.2,!=4.21.3,!=4.21.4,!=4.21.5,<5.0.0dev,>=3.19.5, but you have protobuf 5.29.5 which is incompatible.\u001b[0m\u001b[31m\n",
            "\u001b[0mNote: you may need to restart the kernel to use updated packages.\n"
          ]
        }
      ],
      "source": [
        "%pip install --quiet langchain-core==0.1.23\n",
        "%pip install --quiet langchain==0.1.1\n",
        "%pip install --quiet langchain-google-genai==0.0.6\n",
        "%pip install --quiet -U langchain-community==0.0.20\n",
        "%pip install --quiet chromadb"
      ]
    },
    {
      "cell_type": "code",
      "execution_count": 3,
      "metadata": {
        "id": "TcvGPVdXu05F"
      },
      "outputs": [],
      "source": [
        "from langchain import PromptTemplate\n",
        "from langchain import hub\n",
        "from langchain.docstore.document import Document\n",
        "from langchain.document_loaders import WebBaseLoader\n",
        "from langchain.schema import StrOutputParser\n",
        "from langchain.schema.prompt_template import format_document\n",
        "from langchain.schema.runnable import RunnablePassthrough\n",
        "from langchain.vectorstores import Chroma"
      ]
    },
    {
      "cell_type": "markdown",
      "metadata": {
        "id": "FQOGMejVu-6D"
      },
      "source": [
        "## Configure your API key\n",
        "\n",
        "To run the following cell, your API key must be stored in a Colab Secret named `GOOGLE_API_KEY`. If you don't already have an API key, or you're not sure how to create a Colab Secret, see [Authentication](https://github.com/google-gemini/cookbook/blob/main/quickstarts/Authentication.ipynb) for an example.\n"
      ]
    },
    {
      "cell_type": "code",
      "execution_count": 4,
      "metadata": {
        "id": "ysayz8skEfBW"
      },
      "outputs": [],
      "source": [
        "import os\n",
        "GOOGLE_API_KEY=os.environ.get('GOOGLE_API_KEY')\n",
        "\n",
        "os.environ[\"GOOGLE_API_KEY\"] = GOOGLE_API_KEY"
      ]
    },
    {
      "cell_type": "markdown",
      "metadata": {
        "id": "aEKMUyVmckWI"
      },
      "source": [
        "## Basic steps\n",
        "LLMs are trained offline on a large corpus of public data. Hence they cannot answer questions based on custom or private data accurately without additional context.\n",
        "\n",
        "If you want to make use of LLMs to answer questions based on private data, you have to provide the relevant documents as context alongside your prompt. This approach is called Retrieval Augmented Generation (RAG).\n",
        "\n",
        "You will use this approach to create a question-answering assistant using the Gemini text model integrated through LangChain. The assistant is expected to answer questions about the Gemini model. To make this possible you will add more context to the assistant using data from a website.\n",
        "\n",
        "In this tutorial, you'll implement the two main components in an RAG-based architecture:\n",
        "\n",
        "1. Retriever\n",
        "\n",
        "    Based on the user's query, the retriever retrieves relevant snippets that add context from the document. In this tutorial, the document is the website data.\n",
        "    The relevant snippets are passed as context to the next stage - \"Generator\".\n",
        "\n",
        "2. Generator\n",
        "\n",
        "    The relevant snippets from the website data are passed to the LLM along with the user's query to generate accurate answers.\n",
        "\n",
        "You'll learn more about these stages in the upcoming sections while implementing the application."
      ]
    },
    {
      "cell_type": "markdown",
      "metadata": {
        "id": "4461Jihk_rWq"
      },
      "source": [
        "## Retriever\n",
        "\n",
        "In this stage, you will perform the following steps:\n",
        "\n",
        "1. Read and parse the website data using LangChain.\n",
        "\n",
        "2. Create embeddings of the website data.\n",
        "\n",
        "    Embeddings are numerical representations (vectors) of text. Hence, text with similar meaning will have similar embedding vectors. You'll make use of Gemini's embedding model to create the embedding vectors of the website data.\n",
        "\n",
        "3. Store the embeddings in Chroma's vector store.\n",
        "    \n",
        "    Chroma is a vector database. The Chroma vector store helps in the efficient retrieval of similar vectors. Thus, for adding context to the prompt for the LLM, relevant embeddings of the text matching the user's question can be retrieved easily using Chroma.\n",
        "\n",
        "4. Create a Retriever from the Chroma vector store.\n",
        "\n",
        "    The retriever will be used to pass relevant website embeddings to the LLM along with user queries."
      ]
    },
    {
      "cell_type": "markdown",
      "metadata": {
        "id": "WomGvIAVjZeI"
      },
      "source": [
        "### Read and parse the website data\n",
        "\n",
        "LangChain provides a wide variety of document loaders. To read the website data as a document, you will use the `WebBaseLoader` from LangChain.\n",
        "\n",
        "To know more about how to read and parse input data from different sources using the document loaders of LangChain, read LangChain's [document loaders guide](https://python.langchain.com/docs/integrations/document_loaders)."
      ]
    },
    {
      "cell_type": "code",
      "execution_count": 5,
      "metadata": {
        "id": "DeNX9QFM0V-C"
      },
      "outputs": [],
      "source": [
        "from langchain_community.document_loaders import WebBaseLoader\n",
        "url = \"https://amuslim.org/threads/%D9%85%D9%84%D9%81%D9%88%D8%B8%D8%A7%D8%AA-%DB%94-%D8%AD%D8%B6%D8%B1%D8%AA-%D9%85%D8%B3%DB%8C%D8%AD-%D9%85%D9%88%D8%B9%D9%88%D8%AF-%D8%B9%D9%84%DB%8C%DB%81-%D8%A7%D9%84%D8%B3%D9%84%D8%A7%D9%85-%DB%94-%D8%AC%D9%84%D8%AF-1.564/\"\n",
        "\n",
        "loader = WebBaseLoader(url)\n",
        "\n",
        "docs = loader.load()\n",
        "\n",
        "for i, doc in enumerate(docs):\n",
        "        doc.metadata[\"source\"] = f\"{url}_doc_{i}\""
      ]
    },
    {
      "cell_type": "markdown",
      "metadata": {
        "id": "yDsdAg4Fjo5o"
      },
      "source": [
        "### Initialize Gemini's embedding model\n",
        "\n",
        "To create the embeddings from the website data, you'll use Gemini's embedding model, **embedding-001** which supports creating text embeddings.\n",
        "\n",
        "To use this embedding model, you have to import `GoogleGenerativeAIEmbeddings` from LangChain. To know more about the embedding model, read Google AI's [language documentation](https://ai.google.dev/models/gemini)."
      ]
    },
    {
      "cell_type": "code",
      "execution_count": 6,
      "metadata": {
        "id": "8NXNTrjp0jdh"
      },
      "outputs": [
        {
          "name": "stderr",
          "output_type": "stream",
          "text": [
            "/Users/mwaraich/tickrbot-mcp/.venv/lib/python3.13/site-packages/tqdm/auto.py:21: TqdmWarning: IProgress not found. Please update jupyter and ipywidgets. See https://ipywidgets.readthedocs.io/en/stable/user_install.html\n",
            "  from .autonotebook import tqdm as notebook_tqdm\n"
          ]
        }
      ],
      "source": [
        "from langchain_google_genai import GoogleGenerativeAIEmbeddings\n",
        "\n",
        "gemini_embeddings = GoogleGenerativeAIEmbeddings(model=\"models/embedding-001\")"
      ]
    },
    {
      "cell_type": "markdown",
      "metadata": {
        "id": "m9Vzw30wpebs"
      },
      "source": [
        "### Store the data using Chroma\n",
        "\n",
        "To create a Chroma vector database from the website data, you will use the `from_documents` function of `Chroma`. Under the hood, this function creates embeddings from the documents created by the document loader of LangChain using any specified embedding model and stores them in a Chroma vector database.  \n",
        "\n",
        "You have to specify the `docs` you created from the website data using LangChain's `WebBasedLoader` and the `gemini_embeddings` as the embedding model when invoking the `from_documents` function to create the vector database from the website data. You can also specify a directory in the `persist_directory` argument to store the vector store on the disk. If you don't specify a directory, the data will be ephemeral in-memory.\n"
      ]
    },
    {
      "cell_type": "code",
      "execution_count": 7,
      "metadata": {
        "id": "n1VwhUQMvpcN"
      },
      "outputs": [],
      "source": [
        "# Save to disk\n",
        "vectorstore = Chroma.from_documents(\n",
        "                     documents=docs,                 # Data\n",
        "                     embedding=gemini_embeddings,    # Embedding model\n",
        "                     persist_directory=\"./chroma_db\" # Directory to save data\n",
        "                     )\n",
        "vectorstore.persist()"
      ]
    },
    {
      "cell_type": "code",
      "execution_count": 8,
      "metadata": {},
      "outputs": [],
      "source": [
        "vectorstore = Chroma(\n",
        "    persist_directory=\"./chroma_db\", \n",
        "    embedding_function=gemini_embeddings\n",
        ")\n",
        "\n",
        "from langchain_community.document_loaders import WebBaseLoader\n",
        "url = \"https://amuslim.org/threads/%D9%81%D9%82%DB%81-%D8%A7%D9%84%D9%85%D8%B3%DB%8C%D8%AD-%DB%94-%D8%AD%D8%B6%D8%B1%D8%AA-%D9%85%D8%B3%DB%8C%D8%AD-%D9%85%D9%88%D8%B9%D9%88%D8%AF-%D8%B9%D9%84%DB%8C%DB%81-%D8%A7%D9%84%D8%B3%D9%84%D8%A7%D9%85-%DA%A9%DB%92-%D8%A7%D8%B5%D9%88%D9%84-%D9%81%D9%82%DB%81.541/\"\n",
        "loader = WebBaseLoader(url)\n",
        "new_docs = loader.load()\n",
        "\n",
        "for i, doc in enumerate(new_docs):\n",
        "        doc.metadata[\"source\"] = f\"{url}_doc_{i}\"\n",
        "\n",
        "vectorstore.add_documents(new_docs)\n",
        "vectorstore.persist()"
      ]
    },
    {
      "cell_type": "code",
      "execution_count": 22,
      "metadata": {},
      "outputs": [],
      "source": [
        "vectorstore = Chroma(\n",
        "    persist_directory=\"./chroma_db\", \n",
        "    embedding_function=gemini_embeddings\n",
        ")\n",
        "\n",
        "from langchain_community.document_loaders import WebBaseLoader\n",
        "url = \"https://amuslim.org/threads/%D8%B0%DA%A9%D8%B1-%D8%AD%D8%A8%DB%8C%D8%A8-%DB%94-%D9%85%D9%81%D8%AA%DB%8C-%D9%85%D8%AD%D9%85%D8%AF-%D8%B5%D8%A7%D8%AF%D9%82-%DB%94-%D8%B3%DB%8C%D8%B1%D8%AA-%D9%85%D8%B3%DB%8C%D8%AD-%D9%85%D9%88%D8%B9%D9%88%D8%AF-%D8%B9%D9%84%DB%8C%DB%81-%D8%A7%D9%84%D8%B3%D9%84%D8%A7%D9%85-%DB%94-%DB%8C%D9%88%D9%86%DB%8C-%DA%A9%D9%88%DA%88.602/\"\n",
        "loader = WebBaseLoader(url)\n",
        "new_docs = loader.load()\n",
        "\n",
        "for i, doc in enumerate(new_docs):\n",
        "        doc.metadata[\"source\"] = f\"{url}_doc_{i}\"\n",
        "\n",
        "vectorstore.add_documents(new_docs)\n",
        "vectorstore.persist()"
      ]
    },
    {
      "cell_type": "markdown",
      "metadata": {
        "id": "WFKyb3JXOeaQ"
      },
      "source": [
        "### Create a retriever using Chroma\n",
        "\n",
        "You'll now create a retriever that can retrieve website data embeddings from the newly created Chroma vector store. This retriever can be later used to pass embeddings that provide more context to the LLM for answering user's queries.\n",
        "\n",
        "\n",
        "To load the vector store that you previously stored in the disk, you can specify the name of the directory that contains the vector store in `persist_directory` and the embedding model in the `embedding_function` arguments of Chroma's initializer.\n",
        "\n",
        "You can then invoke the `as_retriever` function of `Chroma` on the vector store to create a retriever."
      ]
    },
    {
      "cell_type": "code",
      "execution_count": 23,
      "metadata": {
        "id": "s3t4kmzIOZQq"
      },
      "outputs": [
        {
          "name": "stdout",
          "output_type": "stream",
          "text": [
            "3\n"
          ]
        }
      ],
      "source": [
        "# Load from disk\n",
        "vectorstore_disk = Chroma(\n",
        "                        persist_directory=\"./chroma_db\",       # Directory of db\n",
        "                        embedding_function=gemini_embeddings   # Embedding model\n",
        "                   )\n",
        "# Get the Retriever interface for the store to use later.\n",
        "# When an unstructured query is given to a retriever it will return documents.\n",
        "# Read more about retrievers in the following link.\n",
        "# https://python.langchain.com/docs/modules/data_connection/retrievers/\n",
        "#\n",
        "# Since only 1 document is stored in the Chroma vector store, search_kwargs `k`\n",
        "# is set to 1 to decrease the `k` value of chroma's similarity search from 4 to\n",
        "# 1. If you don't pass this value, you will get a warning.\n",
        "retriever = vectorstore_disk.as_retriever(search_kwargs={\"k\": 3})\n",
        "\n",
        "# Check if the retriever is working by trying to fetch the relevant docs related\n",
        "# to the word 'MMLU' (Massive Multitask Language Understanding). If the length is greater than zero, it means that\n",
        "# the retriever is functioning well.\n",
        "print(len(retriever.get_relevant_documents(\"MMLU\")))"
      ]
    },
    {
      "cell_type": "markdown",
      "metadata": {
        "id": "LZwcZyRxSO0q"
      },
      "source": [
        "## Generator\n",
        "\n",
        "The Generator prompts the LLM for an answer when the user asks a question. The retriever you created in the previous stage from the Chroma vector store will be used to pass relevant embeddings from the website data to the LLM to provide more context to the user's query.\n",
        "\n",
        "You'll perform the following steps in this stage:\n",
        "\n",
        "1. Chain together the following:\n",
        "    * A prompt for extracting the relevant embeddings using the retriever.\n",
        "    * A prompt for answering any question using LangChain.\n",
        "    * An LLM model from Gemini for prompting.\n",
        "    \n",
        "2. Run the created chain with a question as input to prompt the model for an answer.\n"
      ]
    },
    {
      "cell_type": "markdown",
      "metadata": {
        "id": "FtUi5FBIJMDy"
      },
      "source": [
        "### Initialize Gemini\n",
        "\n",
        "You must import `ChatGoogleGenerativeAI` from LangChain to initialize your model.\n",
        " In this example, you will use **gemini-2.0-flash**, as it supports text summarization. To know more about the text model, read Google AI's [language documentation](https://ai.google.dev/models/gemini).\n",
        "\n",
        "You can configure the model parameters such as ***temperature*** or ***top_p***,  by passing the appropriate values when initializing the `ChatGoogleGenerativeAI` LLM.  To learn more about the parameters and their uses, read Google AI's [concepts guide](https://ai.google.dev/docs/concepts#model_parameters)."
      ]
    },
    {
      "cell_type": "code",
      "execution_count": 24,
      "metadata": {
        "id": "CaA1vRCh7s36"
      },
      "outputs": [],
      "source": [
        "from langchain_google_genai import ChatGoogleGenerativeAI\n",
        "\n",
        "# To configure model parameters use the `generation_config` parameter.\n",
        "# eg. generation_config = {\"temperature\": 0.7, \"topP\": 0.8, \"topK\": 40}\n",
        "# If you only want to set a custom temperature for the model use the\n",
        "# \"temperature\" parameter directly.\n",
        "\n",
        "llm = ChatGoogleGenerativeAI(model=\"gemini-2.5-flash-preview-05-20\")"
      ]
    },
    {
      "cell_type": "markdown",
      "metadata": {
        "id": "jC4QDhiPpDJa"
      },
      "source": [
        "### Create prompt templates\n",
        "\n",
        "You'll use LangChain's [PromptTemplate](https://python.langchain.com/docs/how_to/#prompt-templates) to generate prompts to the LLM for answering questions.\n",
        "\n",
        "In the `llm_prompt`, the variable `question` will be replaced later by the input question, and the variable `context` will be replaced by the relevant text from the website retrieved from the Chroma vector store."
      ]
    },
    {
      "cell_type": "code",
      "execution_count": 25,
      "metadata": {
        "id": "90Czqh074dEC"
      },
      "outputs": [
        {
          "name": "stdout",
          "output_type": "stream",
          "text": [
            "input_variables=['context', 'question'] template=\"You are an assistant for question-answering tasks.\\nUse the following context to answer the question.\\nIf you don't know the answer, just say that you don't know.\\nAdd references to the sources of the answer.\\n\\nQuestion: {question} \\nContext: {context} \\nAnswer:\"\n"
          ]
        }
      ],
      "source": [
        "# Prompt template to query Gemini\n",
        "llm_prompt_template = \"\"\"You are an assistant for question-answering tasks.\n",
        "Use the following context to answer the question.\n",
        "If you don't know the answer, just say that you don't know.\n",
        "Add references to the sources of the answer.\\n\n",
        "Question: {question} \\nContext: {context} \\nAnswer:\"\"\"\n",
        "\n",
        "llm_prompt = PromptTemplate.from_template(llm_prompt_template)\n",
        "\n",
        "print(llm_prompt)"
      ]
    },
    {
      "cell_type": "markdown",
      "metadata": {
        "id": "KXDh2jsdp4sr"
      },
      "source": [
        "### Create a stuff documents chain\n",
        "\n",
        "LangChain provides [Chains](https://python.langchain.com/docs/modules/chains/) for chaining together LLMs with each other or other components for complex applications. You will create a **stuff documents chain** for this application. A stuff documents chain lets you combine all the relevant documents, insert them into the prompt, and pass that prompt to the LLM.\n",
        "\n",
        "You can create a stuff documents chain using the [LangChain Expression Language (LCEL)](https://python.langchain.com/docs/expression_language).\n",
        "\n",
        "To learn more about different types of document chains, read LangChain's [chains guide](https://python.langchain.com/docs/modules/chains/document/).\n",
        "\n",
        "The stuff documents chain for this application retrieves the relevant website data and passes it as the context to an LLM prompt along with the input question."
      ]
    },
    {
      "cell_type": "code",
      "execution_count": 26,
      "metadata": {
        "id": "gj5sWzpwp7vc"
      },
      "outputs": [],
      "source": [
        "# Combine data from documents to readable string format.\n",
        "def format_docs(docs):\n",
        "    return \"\\n\\n\".join(doc.page_content for doc in docs)\n",
        "\n",
        "# Create stuff documents chain using LCEL.\n",
        "#\n",
        "# This is called a chain because you are chaining together different elements\n",
        "# with the LLM. In the following example, to create the stuff chain, you will\n",
        "# combine the relevant context from the website data matching the question, the\n",
        "# LLM model, and the output parser together like a chain using LCEL.\n",
        "#\n",
        "# The chain implements the following pipeline:\n",
        "# 1. Extract the website data relevant to the question from the Chroma\n",
        "#    vector store and save it to the variable `context`.\n",
        "# 2. `RunnablePassthrough` option to provide `question` when invoking\n",
        "#    the chain.\n",
        "# 3. The `context` and `question` are then passed to the prompt where they\n",
        "#    are populated in the respective variables.\n",
        "# 4. This prompt is then passed to the LLM (`gemini-2.0-flash`).\n",
        "# 5. Output from the LLM is passed through an output parser\n",
        "#    to structure the model's response.\n",
        "rag_chain = (\n",
        "    {\"context\": retriever | format_docs, \"question\": RunnablePassthrough()}\n",
        "    | llm_prompt\n",
        "    | llm\n",
        "    | StrOutputParser()\n",
        ")"
      ]
    },
    {
      "cell_type": "markdown",
      "metadata": {
        "id": "cPPqsGCLIrs1"
      },
      "source": [
        "### Prompt the model\n",
        "\n",
        "You can now query the LLM by passing any question to the `invoke()` function of the stuff documents chain you created previously."
      ]
    },
    {
      "cell_type": "code",
      "execution_count": 29,
      "metadata": {
        "id": "4vIaopCsIq0B"
      },
      "outputs": [
        {
          "data": {
            "text/plain": [
              "'حضرت مسیح موعود علیہ السلام اور ان کے اصحاب کی پہلی ملاقات کے بارے میں دستیاب مواد میں کسی ایک مرکزی \\'پہلی ملاقات\\' کا تفصیلی ذکر نہیں ملتا جس میں تمام اصحاب ایک ساتھ جمع ہوئے ہوں، بلکہ یہ مواد انفرادی یا چھوٹے گروہوں کی ابتدائی ملاقاتوں اور اس دوران پیش آنے والے واقعات کو بیان کرتا ہے، جو نئے ساتھیوں کے حضرت مسیح موعود علیہ السلام سے وابستگی اور ان کے ایمان کے آغاز کی عکاسی کرتے ہیں۔\\n\\nذیل میں چند ایسے واقعات کا ذکر کیا گیا ہے جو آپؑ کے ابتدائی ایام اور نئے احباب سے ملاقاتوں کی نوعیت کو واضح کرتے ہیں:\\n\\n1.  **جالندھر میں سوال و جواب:**\\n    حضرت مسیح موعود علیہ السلام نے فرمایا کہ \"میں اس لئے آیا ہوں تاکہ لوگ قوتِ یقین میں ترقی کریں۔\" اسی طرح آپ نے ایمان کی دو اقسام (موٹا اور باریک) بیان کیں، جس سے پتا چلتا ہے کہ ابتدائی ملاقاتوں میں آپ لوگوں کے ایمانی سوالات کے جوابات دیتے اور انہیں روحانی بصیرت عطا فرماتے تھے۔ ایک ملاقات میں آپ کے ایک صحابی، منشی محمد اروڑا صاحبؓ نے ایمان کی اقسام کے بارے میں سوال کیا تھا، جس کا آپ نے بہت لطیف اور سلیس جواب دیا۔\\n    (ماخذ: ملفوظات، جلد 1، صفحہ 1891 تا 1895ء کے درمیان)\\n\\n2.  **درویش صاحب کی رویاء اور بیعت:**\\n    شیخ محمد حسین مراد آبادی مرحوم نے ایک درویش نما شخص کا واقعہ بیان کیا جو حضرت مسیح موعود علیہ السلام سے ملنے آیا۔ اس درویش نے بتایا کہ بچپن سے ہی اسے خدا سے ملنے کی آرزو تھی اور وہ مختلف بزرگوں اور خانقاہوں میں چلہ کشی کرتا رہا لیکن اطمینان نہ ملا۔ ایک رات اسے خواب میں دو بزرگ نظر آئے، جن میں سے ایک نے موجودہ خانقاہ کے بزرگ کی طرف اشارہ کرتے ہوئے کہا کہ \"یہاں ناحق اپنا وقت ضائع نہ کرو\" اور دوسرے کھڑے ہوئے بزرگ کی طرف اشارہ کر کے کہا کہ \"اس وقت اگر تمہاری مراد پوری ہو سکتی ہے تو ان سے فیض حاصل کرو۔\" درویش بیدار ہونے پر دوسرے بزرگ کی شناخت نہیں کر پایا۔ بعد میں جب وہ قادیان پہنچا اور حضرت مسیح موعود علیہ السلام کو دیکھا تو فوراً پہچان لیا کہ وہی دوسری شخصیت ہیں جو اسے خواب میں نظر آئی تھیں۔ حضرت مسیح موعود علیہ السلام نے اس سے فرمایا کہ \"آپ اپنی شناخت میں تو شک و شبہ نہیں ہے؟\" جس پر اس نے اثبات میں جواب دیا۔ بعد ازاں حضرت مسیح موعود علیہ السلام نے انہیں براھین احمدیہ پڑھنے کا حکم دیا اور فرمایا کہ \"خدا نے اس وقت کا یہی مجاہدہ قرار دیا ہے۔\" یہ ملاقات روحانی تلاش اور رہنمائی کا ایک واضح نمونہ پیش کرتی ہے۔\\n    (ماخذ: ذکر حبیب، مفتی محمد صادق، صفحہ 1543 تا 1547، نسخہ یونی کوڈ)\\n\\n3.  **مفتی محمد صادق صاحب کی بیعت:**\\n    مفتی محمد صادق صاحبؓ بیان کرتے ہیں کہ جب انہوں نے بیعت کا ارادہ کیا تو حضرت مسیح موعود علیہ السلام انہیں ایک علیحدہ کمرے میں لے گئے، اندر سے دروازہ بند کیا، اور دس شرائط پر بیعت لی۔ آپ نے ایک ایک شرط دہرا کر نہیں پوچھی بلکہ صرف \\'دس شرائط\\' کا لفظ کہا (دوسرے صحابہ سے یہ شرائط تفصیل سے پوچھی بھی جاتی تھیں)۔ یہ اس بات کا اشارہ ہے کہ آپ کے ابتدائی صحابہ آپ کے ساتھ باہم ذاتی واقفیت اور عقیدت رکھتے تھے۔\\n    (ماخذ: ذکر حبیب، مفتی محمد صادق، صفحہ 6-7، نسخہ یونی کوڈ)\\n\\n4.  **نئے بیعت کرنے والوں کو نصیحت:**\\n    ننگل سے تعلق رکھنے والی ایک خاتون مائی جانو صاحبہؓ نے اپنی ساس اور نند کے ساتھ قادیان آ کر حضرت مسیح موعود علیہ السلام کی بیعت کی۔ آپ نے ان کی ساس سے پوچھا کہ \"تم کیوں آئی ہو؟\" ساس نے کہا کہ وہ اپنے بھتیجے منشی عبد العزیز صاحب سے ملنے آئی ہیں۔ اس پر آپ نے فرمایا: \"نہیں، جس بات کے واسطے تم آئی ہو، وہ کیوں نہیں بتاتیں۔\" گویا آپ کو ان کے بیعت کے ارادے کا علم تھا۔ آپ نے بیعت لینے سے پہلے انہیں تسلی دی اور فرمایا کہ \"یہ کام بہت مشکل ہے، تم سوچ لو، کہیں گھبرا نہ جاؤ۔\" جب انہوں نے استقامت کا عہد کیا، تو آپ نے دعا فرمائی۔\\n    (ماخذ: ذکر حبیب، مفتی محمد صادق، صفحہ 1574-1575، نسخہ یونی کوڈ)\\n\\nان واقعات سے ظاہر ہوتا ہے کہ حضرت مسیح موعود علیہ السلام اور ان کے اصحاب کی ابتدائی ملاقاتیں روحانی تلاش، ذاتی شناخت، اور ایمان کی گہرائی پر مبنی تھیں، جہاں آپ نئے آنے والوں کو صبر، اخلاص، اور اللہ تعالیٰ پر مکمل توکل کی تلقین فرماتے تھے۔'"
            ]
          },
          "execution_count": 29,
          "metadata": {},
          "output_type": "execute_result"
        }
      ],
      "source": [
        "rag_chain.invoke(\"jazrat masih maud aur unke ashab ki pehli mulaqat kai baaz waqiyat ka zikr karo\")"
      ]
    },
    {
      "cell_type": "markdown",
      "metadata": {
        "id": "lV7T9rqDdjZK"
      },
      "source": [
        "# Conclusion\n",
        "\n",
        "That's it. You have successfully created an LLM application that answers questions using data from a website with the help of Gemini, LangChain, and Chroma."
      ]
    }
  ],
  "metadata": {
    "colab": {
      "name": "Gemini_LangChain_QA_Chroma_WebLoad.ipynb",
      "toc_visible": true
    },
    "kernelspec": {
      "display_name": ".venv",
      "language": "python",
      "name": "python3"
    },
    "language_info": {
      "codemirror_mode": {
        "name": "ipython",
        "version": 3
      },
      "file_extension": ".py",
      "mimetype": "text/x-python",
      "name": "python",
      "nbconvert_exporter": "python",
      "pygments_lexer": "ipython3",
      "version": "3.13.2"
    }
  },
  "nbformat": 4,
  "nbformat_minor": 0
}
